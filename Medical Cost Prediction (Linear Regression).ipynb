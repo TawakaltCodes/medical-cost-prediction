{
 "cells": [
  {
   "cell_type": "code",
   "execution_count": 1,
   "id": "662ee1b3",
   "metadata": {
    "ExecuteTime": {
     "end_time": "2024-07-26T14:39:39.155539Z",
     "start_time": "2024-07-26T14:39:33.761925Z"
    },
    "run_control": {
     "marked": true
    }
   },
   "outputs": [],
   "source": [
    "#importing necessary libraries\n",
    "\n",
    "import pandas as pd \n",
    "import numpy as np\n",
    "from sklearn.linear_model import LinearRegression\n",
    "from sklearn.metrics import mean_squared_error, r2_score\n",
    "from sklearn.model_selection import train_test_split\n",
    "import seaborn as sns\n",
    "import matplotlib.pyplot as plt"
   ]
  },
  {
   "cell_type": "code",
   "execution_count": 2,
   "id": "fda0a000",
   "metadata": {
    "ExecuteTime": {
     "end_time": "2024-07-26T14:39:39.198422Z",
     "start_time": "2024-07-26T14:39:39.155539Z"
    }
   },
   "outputs": [],
   "source": [
    "# importing the data\n",
    "\n",
    "insurance = pd.read_csv('insurance.csv')"
   ]
  },
  {
   "cell_type": "markdown",
   "id": "344d87d7",
   "metadata": {},
   "source": [
    "### Data Exploration"
   ]
  },
  {
   "cell_type": "code",
   "execution_count": 3,
   "id": "12b7f846",
   "metadata": {
    "ExecuteTime": {
     "end_time": "2024-07-26T14:39:39.229177Z",
     "start_time": "2024-07-26T14:39:39.202415Z"
    }
   },
   "outputs": [
    {
     "data": {
      "text/html": [
       "<div>\n",
       "<style scoped>\n",
       "    .dataframe tbody tr th:only-of-type {\n",
       "        vertical-align: middle;\n",
       "    }\n",
       "\n",
       "    .dataframe tbody tr th {\n",
       "        vertical-align: top;\n",
       "    }\n",
       "\n",
       "    .dataframe thead th {\n",
       "        text-align: right;\n",
       "    }\n",
       "</style>\n",
       "<table border=\"1\" class=\"dataframe\">\n",
       "  <thead>\n",
       "    <tr style=\"text-align: right;\">\n",
       "      <th></th>\n",
       "      <th>age</th>\n",
       "      <th>sex</th>\n",
       "      <th>bmi</th>\n",
       "      <th>children</th>\n",
       "      <th>smoker</th>\n",
       "      <th>region</th>\n",
       "      <th>charges</th>\n",
       "    </tr>\n",
       "  </thead>\n",
       "  <tbody>\n",
       "    <tr>\n",
       "      <th>0</th>\n",
       "      <td>19</td>\n",
       "      <td>female</td>\n",
       "      <td>27.900</td>\n",
       "      <td>0</td>\n",
       "      <td>yes</td>\n",
       "      <td>southwest</td>\n",
       "      <td>16884.92400</td>\n",
       "    </tr>\n",
       "    <tr>\n",
       "      <th>1</th>\n",
       "      <td>18</td>\n",
       "      <td>male</td>\n",
       "      <td>33.770</td>\n",
       "      <td>1</td>\n",
       "      <td>no</td>\n",
       "      <td>southeast</td>\n",
       "      <td>1725.55230</td>\n",
       "    </tr>\n",
       "    <tr>\n",
       "      <th>2</th>\n",
       "      <td>28</td>\n",
       "      <td>male</td>\n",
       "      <td>33.000</td>\n",
       "      <td>3</td>\n",
       "      <td>no</td>\n",
       "      <td>southeast</td>\n",
       "      <td>4449.46200</td>\n",
       "    </tr>\n",
       "    <tr>\n",
       "      <th>3</th>\n",
       "      <td>33</td>\n",
       "      <td>male</td>\n",
       "      <td>22.705</td>\n",
       "      <td>0</td>\n",
       "      <td>no</td>\n",
       "      <td>northwest</td>\n",
       "      <td>21984.47061</td>\n",
       "    </tr>\n",
       "    <tr>\n",
       "      <th>4</th>\n",
       "      <td>32</td>\n",
       "      <td>male</td>\n",
       "      <td>28.880</td>\n",
       "      <td>0</td>\n",
       "      <td>no</td>\n",
       "      <td>northwest</td>\n",
       "      <td>3866.85520</td>\n",
       "    </tr>\n",
       "  </tbody>\n",
       "</table>\n",
       "</div>"
      ],
      "text/plain": [
       "   age     sex     bmi  children smoker     region      charges\n",
       "0   19  female  27.900         0    yes  southwest  16884.92400\n",
       "1   18    male  33.770         1     no  southeast   1725.55230\n",
       "2   28    male  33.000         3     no  southeast   4449.46200\n",
       "3   33    male  22.705         0     no  northwest  21984.47061\n",
       "4   32    male  28.880         0     no  northwest   3866.85520"
      ]
     },
     "execution_count": 3,
     "metadata": {},
     "output_type": "execute_result"
    }
   ],
   "source": [
    "insurance.head()"
   ]
  },
  {
   "cell_type": "code",
   "execution_count": 4,
   "id": "1b2e1172",
   "metadata": {
    "ExecuteTime": {
     "end_time": "2024-07-26T14:39:39.260810Z",
     "start_time": "2024-07-26T14:39:39.229970Z"
    }
   },
   "outputs": [
    {
     "name": "stdout",
     "output_type": "stream",
     "text": [
      "<class 'pandas.core.frame.DataFrame'>\n",
      "RangeIndex: 1338 entries, 0 to 1337\n",
      "Data columns (total 7 columns):\n",
      " #   Column    Non-Null Count  Dtype  \n",
      "---  ------    --------------  -----  \n",
      " 0   age       1338 non-null   int64  \n",
      " 1   sex       1338 non-null   object \n",
      " 2   bmi       1338 non-null   float64\n",
      " 3   children  1338 non-null   int64  \n",
      " 4   smoker    1338 non-null   object \n",
      " 5   region    1338 non-null   object \n",
      " 6   charges   1338 non-null   float64\n",
      "dtypes: float64(2), int64(2), object(3)\n",
      "memory usage: 73.3+ KB\n"
     ]
    }
   ],
   "source": [
    "insurance.info()"
   ]
  },
  {
   "cell_type": "code",
   "execution_count": 5,
   "id": "a749c248",
   "metadata": {
    "ExecuteTime": {
     "end_time": "2024-07-26T14:39:39.273284Z",
     "start_time": "2024-07-26T14:39:39.264798Z"
    }
   },
   "outputs": [
    {
     "data": {
      "text/plain": [
       "(1338, 7)"
      ]
     },
     "execution_count": 5,
     "metadata": {},
     "output_type": "execute_result"
    }
   ],
   "source": [
    "insurance.shape"
   ]
  },
  {
   "cell_type": "code",
   "execution_count": 6,
   "id": "110ee381",
   "metadata": {
    "ExecuteTime": {
     "end_time": "2024-07-26T14:39:39.303787Z",
     "start_time": "2024-07-26T14:39:39.276184Z"
    },
    "scrolled": true
   },
   "outputs": [
    {
     "data": {
      "text/html": [
       "<div>\n",
       "<style scoped>\n",
       "    .dataframe tbody tr th:only-of-type {\n",
       "        vertical-align: middle;\n",
       "    }\n",
       "\n",
       "    .dataframe tbody tr th {\n",
       "        vertical-align: top;\n",
       "    }\n",
       "\n",
       "    .dataframe thead th {\n",
       "        text-align: right;\n",
       "    }\n",
       "</style>\n",
       "<table border=\"1\" class=\"dataframe\">\n",
       "  <thead>\n",
       "    <tr style=\"text-align: right;\">\n",
       "      <th></th>\n",
       "      <th>age</th>\n",
       "      <th>bmi</th>\n",
       "      <th>children</th>\n",
       "      <th>charges</th>\n",
       "    </tr>\n",
       "  </thead>\n",
       "  <tbody>\n",
       "    <tr>\n",
       "      <th>count</th>\n",
       "      <td>1338.000000</td>\n",
       "      <td>1338.000000</td>\n",
       "      <td>1338.000000</td>\n",
       "      <td>1338.000000</td>\n",
       "    </tr>\n",
       "    <tr>\n",
       "      <th>mean</th>\n",
       "      <td>39.207025</td>\n",
       "      <td>30.663397</td>\n",
       "      <td>1.094918</td>\n",
       "      <td>13270.422265</td>\n",
       "    </tr>\n",
       "    <tr>\n",
       "      <th>std</th>\n",
       "      <td>14.049960</td>\n",
       "      <td>6.098187</td>\n",
       "      <td>1.205493</td>\n",
       "      <td>12110.011237</td>\n",
       "    </tr>\n",
       "    <tr>\n",
       "      <th>min</th>\n",
       "      <td>18.000000</td>\n",
       "      <td>15.960000</td>\n",
       "      <td>0.000000</td>\n",
       "      <td>1121.873900</td>\n",
       "    </tr>\n",
       "    <tr>\n",
       "      <th>25%</th>\n",
       "      <td>27.000000</td>\n",
       "      <td>26.296250</td>\n",
       "      <td>0.000000</td>\n",
       "      <td>4740.287150</td>\n",
       "    </tr>\n",
       "    <tr>\n",
       "      <th>50%</th>\n",
       "      <td>39.000000</td>\n",
       "      <td>30.400000</td>\n",
       "      <td>1.000000</td>\n",
       "      <td>9382.033000</td>\n",
       "    </tr>\n",
       "    <tr>\n",
       "      <th>75%</th>\n",
       "      <td>51.000000</td>\n",
       "      <td>34.693750</td>\n",
       "      <td>2.000000</td>\n",
       "      <td>16639.912515</td>\n",
       "    </tr>\n",
       "    <tr>\n",
       "      <th>max</th>\n",
       "      <td>64.000000</td>\n",
       "      <td>53.130000</td>\n",
       "      <td>5.000000</td>\n",
       "      <td>63770.428010</td>\n",
       "    </tr>\n",
       "  </tbody>\n",
       "</table>\n",
       "</div>"
      ],
      "text/plain": [
       "               age          bmi     children       charges\n",
       "count  1338.000000  1338.000000  1338.000000   1338.000000\n",
       "mean     39.207025    30.663397     1.094918  13270.422265\n",
       "std      14.049960     6.098187     1.205493  12110.011237\n",
       "min      18.000000    15.960000     0.000000   1121.873900\n",
       "25%      27.000000    26.296250     0.000000   4740.287150\n",
       "50%      39.000000    30.400000     1.000000   9382.033000\n",
       "75%      51.000000    34.693750     2.000000  16639.912515\n",
       "max      64.000000    53.130000     5.000000  63770.428010"
      ]
     },
     "execution_count": 6,
     "metadata": {},
     "output_type": "execute_result"
    }
   ],
   "source": [
    "insurance.describe()"
   ]
  },
  {
   "cell_type": "code",
   "execution_count": 7,
   "id": "96b7e907",
   "metadata": {
    "ExecuteTime": {
     "end_time": "2024-07-26T14:39:39.324615Z",
     "start_time": "2024-07-26T14:39:39.304408Z"
    }
   },
   "outputs": [
    {
     "data": {
      "text/plain": [
       "age         0\n",
       "sex         0\n",
       "bmi         0\n",
       "children    0\n",
       "smoker      0\n",
       "region      0\n",
       "charges     0\n",
       "dtype: int64"
      ]
     },
     "execution_count": 7,
     "metadata": {},
     "output_type": "execute_result"
    }
   ],
   "source": [
    "insurance.isnull().sum()"
   ]
  },
  {
   "cell_type": "code",
   "execution_count": 8,
   "id": "ee00b1f6",
   "metadata": {
    "ExecuteTime": {
     "end_time": "2024-07-26T14:39:39.341883Z",
     "start_time": "2024-07-26T14:39:39.326434Z"
    },
    "scrolled": true
   },
   "outputs": [
    {
     "data": {
      "text/html": [
       "<div>\n",
       "<style scoped>\n",
       "    .dataframe tbody tr th:only-of-type {\n",
       "        vertical-align: middle;\n",
       "    }\n",
       "\n",
       "    .dataframe tbody tr th {\n",
       "        vertical-align: top;\n",
       "    }\n",
       "\n",
       "    .dataframe thead th {\n",
       "        text-align: right;\n",
       "    }\n",
       "</style>\n",
       "<table border=\"1\" class=\"dataframe\">\n",
       "  <thead>\n",
       "    <tr style=\"text-align: right;\">\n",
       "      <th></th>\n",
       "      <th>age</th>\n",
       "      <th>bmi</th>\n",
       "      <th>children</th>\n",
       "      <th>charges</th>\n",
       "    </tr>\n",
       "  </thead>\n",
       "  <tbody>\n",
       "    <tr>\n",
       "      <th>age</th>\n",
       "      <td>1.000000</td>\n",
       "      <td>0.109272</td>\n",
       "      <td>0.042469</td>\n",
       "      <td>0.299008</td>\n",
       "    </tr>\n",
       "    <tr>\n",
       "      <th>bmi</th>\n",
       "      <td>0.109272</td>\n",
       "      <td>1.000000</td>\n",
       "      <td>0.012759</td>\n",
       "      <td>0.198341</td>\n",
       "    </tr>\n",
       "    <tr>\n",
       "      <th>children</th>\n",
       "      <td>0.042469</td>\n",
       "      <td>0.012759</td>\n",
       "      <td>1.000000</td>\n",
       "      <td>0.067998</td>\n",
       "    </tr>\n",
       "    <tr>\n",
       "      <th>charges</th>\n",
       "      <td>0.299008</td>\n",
       "      <td>0.198341</td>\n",
       "      <td>0.067998</td>\n",
       "      <td>1.000000</td>\n",
       "    </tr>\n",
       "  </tbody>\n",
       "</table>\n",
       "</div>"
      ],
      "text/plain": [
       "               age       bmi  children   charges\n",
       "age       1.000000  0.109272  0.042469  0.299008\n",
       "bmi       0.109272  1.000000  0.012759  0.198341\n",
       "children  0.042469  0.012759  1.000000  0.067998\n",
       "charges   0.299008  0.198341  0.067998  1.000000"
      ]
     },
     "execution_count": 8,
     "metadata": {},
     "output_type": "execute_result"
    }
   ],
   "source": [
    "insurance.corr()"
   ]
  },
  {
   "cell_type": "code",
   "execution_count": 9,
   "id": "361e6754",
   "metadata": {
    "ExecuteTime": {
     "end_time": "2024-07-26T14:39:39.358285Z",
     "start_time": "2024-07-26T14:39:39.342523Z"
    }
   },
   "outputs": [],
   "source": [
    "insurance['smoker'] = insurance['smoker'].replace({'yes' : 1, 'no' : 0})"
   ]
  },
  {
   "cell_type": "code",
   "execution_count": 10,
   "id": "c44f9d1c",
   "metadata": {
    "ExecuteTime": {
     "end_time": "2024-07-26T14:39:39.375227Z",
     "start_time": "2024-07-26T14:39:39.362277Z"
    }
   },
   "outputs": [
    {
     "data": {
      "text/plain": [
       "0    1\n",
       "1    0\n",
       "2    0\n",
       "3    0\n",
       "4    0\n",
       "Name: smoker, dtype: int64"
      ]
     },
     "execution_count": 10,
     "metadata": {},
     "output_type": "execute_result"
    }
   ],
   "source": [
    "insurance['smoker'].head()"
   ]
  },
  {
   "cell_type": "code",
   "execution_count": 11,
   "id": "5632467e",
   "metadata": {
    "ExecuteTime": {
     "end_time": "2024-07-26T14:39:39.407614Z",
     "start_time": "2024-07-26T14:39:39.378220Z"
    }
   },
   "outputs": [
    {
     "data": {
      "text/html": [
       "<div>\n",
       "<style scoped>\n",
       "    .dataframe tbody tr th:only-of-type {\n",
       "        vertical-align: middle;\n",
       "    }\n",
       "\n",
       "    .dataframe tbody tr th {\n",
       "        vertical-align: top;\n",
       "    }\n",
       "\n",
       "    .dataframe thead th {\n",
       "        text-align: right;\n",
       "    }\n",
       "</style>\n",
       "<table border=\"1\" class=\"dataframe\">\n",
       "  <thead>\n",
       "    <tr style=\"text-align: right;\">\n",
       "      <th></th>\n",
       "      <th>age</th>\n",
       "      <th>bmi</th>\n",
       "      <th>children</th>\n",
       "      <th>smoker</th>\n",
       "      <th>charges</th>\n",
       "    </tr>\n",
       "  </thead>\n",
       "  <tbody>\n",
       "    <tr>\n",
       "      <th>age</th>\n",
       "      <td>1.000000</td>\n",
       "      <td>0.109272</td>\n",
       "      <td>0.042469</td>\n",
       "      <td>-0.025019</td>\n",
       "      <td>0.299008</td>\n",
       "    </tr>\n",
       "    <tr>\n",
       "      <th>bmi</th>\n",
       "      <td>0.109272</td>\n",
       "      <td>1.000000</td>\n",
       "      <td>0.012759</td>\n",
       "      <td>0.003750</td>\n",
       "      <td>0.198341</td>\n",
       "    </tr>\n",
       "    <tr>\n",
       "      <th>children</th>\n",
       "      <td>0.042469</td>\n",
       "      <td>0.012759</td>\n",
       "      <td>1.000000</td>\n",
       "      <td>0.007673</td>\n",
       "      <td>0.067998</td>\n",
       "    </tr>\n",
       "    <tr>\n",
       "      <th>smoker</th>\n",
       "      <td>-0.025019</td>\n",
       "      <td>0.003750</td>\n",
       "      <td>0.007673</td>\n",
       "      <td>1.000000</td>\n",
       "      <td>0.787251</td>\n",
       "    </tr>\n",
       "    <tr>\n",
       "      <th>charges</th>\n",
       "      <td>0.299008</td>\n",
       "      <td>0.198341</td>\n",
       "      <td>0.067998</td>\n",
       "      <td>0.787251</td>\n",
       "      <td>1.000000</td>\n",
       "    </tr>\n",
       "  </tbody>\n",
       "</table>\n",
       "</div>"
      ],
      "text/plain": [
       "               age       bmi  children    smoker   charges\n",
       "age       1.000000  0.109272  0.042469 -0.025019  0.299008\n",
       "bmi       0.109272  1.000000  0.012759  0.003750  0.198341\n",
       "children  0.042469  0.012759  1.000000  0.007673  0.067998\n",
       "smoker   -0.025019  0.003750  0.007673  1.000000  0.787251\n",
       "charges   0.299008  0.198341  0.067998  0.787251  1.000000"
      ]
     },
     "execution_count": 11,
     "metadata": {},
     "output_type": "execute_result"
    }
   ],
   "source": [
    "insurance.corr()"
   ]
  },
  {
   "cell_type": "markdown",
   "id": "adb71abe",
   "metadata": {},
   "source": [
    "#### Encoding categorical variables"
   ]
  },
  {
   "cell_type": "code",
   "execution_count": 12,
   "id": "9be48b9f",
   "metadata": {
    "ExecuteTime": {
     "end_time": "2024-07-26T14:39:39.422315Z",
     "start_time": "2024-07-26T14:39:39.409001Z"
    }
   },
   "outputs": [],
   "source": [
    "insurance['smoker'] = insurance['smoker'].replace({'yes' : 1, 'no' : 0})"
   ]
  },
  {
   "cell_type": "code",
   "execution_count": 13,
   "id": "ed65de5d",
   "metadata": {
    "ExecuteTime": {
     "end_time": "2024-07-26T14:39:39.452787Z",
     "start_time": "2024-07-26T14:39:39.426716Z"
    }
   },
   "outputs": [],
   "source": [
    "insurance['sex'] = insurance['sex'].replace({'male' : 1, 'female' : 0})"
   ]
  },
  {
   "cell_type": "code",
   "execution_count": 14,
   "id": "6618e417",
   "metadata": {
    "ExecuteTime": {
     "end_time": "2024-07-26T14:39:39.468740Z",
     "start_time": "2024-07-26T14:39:39.454779Z"
    }
   },
   "outputs": [],
   "source": [
    "insurance = pd.get_dummies(insurance, columns=['region'], dtype=int)"
   ]
  },
  {
   "cell_type": "code",
   "execution_count": 15,
   "id": "eb9bedc6",
   "metadata": {
    "ExecuteTime": {
     "end_time": "2024-07-26T14:39:39.491886Z",
     "start_time": "2024-07-26T14:39:39.473726Z"
    }
   },
   "outputs": [
    {
     "data": {
      "text/html": [
       "<div>\n",
       "<style scoped>\n",
       "    .dataframe tbody tr th:only-of-type {\n",
       "        vertical-align: middle;\n",
       "    }\n",
       "\n",
       "    .dataframe tbody tr th {\n",
       "        vertical-align: top;\n",
       "    }\n",
       "\n",
       "    .dataframe thead th {\n",
       "        text-align: right;\n",
       "    }\n",
       "</style>\n",
       "<table border=\"1\" class=\"dataframe\">\n",
       "  <thead>\n",
       "    <tr style=\"text-align: right;\">\n",
       "      <th></th>\n",
       "      <th>age</th>\n",
       "      <th>sex</th>\n",
       "      <th>bmi</th>\n",
       "      <th>children</th>\n",
       "      <th>smoker</th>\n",
       "      <th>charges</th>\n",
       "      <th>region_northeast</th>\n",
       "      <th>region_northwest</th>\n",
       "      <th>region_southeast</th>\n",
       "      <th>region_southwest</th>\n",
       "    </tr>\n",
       "  </thead>\n",
       "  <tbody>\n",
       "    <tr>\n",
       "      <th>0</th>\n",
       "      <td>19</td>\n",
       "      <td>0</td>\n",
       "      <td>27.900</td>\n",
       "      <td>0</td>\n",
       "      <td>1</td>\n",
       "      <td>16884.92400</td>\n",
       "      <td>0</td>\n",
       "      <td>0</td>\n",
       "      <td>0</td>\n",
       "      <td>1</td>\n",
       "    </tr>\n",
       "    <tr>\n",
       "      <th>1</th>\n",
       "      <td>18</td>\n",
       "      <td>1</td>\n",
       "      <td>33.770</td>\n",
       "      <td>1</td>\n",
       "      <td>0</td>\n",
       "      <td>1725.55230</td>\n",
       "      <td>0</td>\n",
       "      <td>0</td>\n",
       "      <td>1</td>\n",
       "      <td>0</td>\n",
       "    </tr>\n",
       "    <tr>\n",
       "      <th>2</th>\n",
       "      <td>28</td>\n",
       "      <td>1</td>\n",
       "      <td>33.000</td>\n",
       "      <td>3</td>\n",
       "      <td>0</td>\n",
       "      <td>4449.46200</td>\n",
       "      <td>0</td>\n",
       "      <td>0</td>\n",
       "      <td>1</td>\n",
       "      <td>0</td>\n",
       "    </tr>\n",
       "    <tr>\n",
       "      <th>3</th>\n",
       "      <td>33</td>\n",
       "      <td>1</td>\n",
       "      <td>22.705</td>\n",
       "      <td>0</td>\n",
       "      <td>0</td>\n",
       "      <td>21984.47061</td>\n",
       "      <td>0</td>\n",
       "      <td>1</td>\n",
       "      <td>0</td>\n",
       "      <td>0</td>\n",
       "    </tr>\n",
       "    <tr>\n",
       "      <th>4</th>\n",
       "      <td>32</td>\n",
       "      <td>1</td>\n",
       "      <td>28.880</td>\n",
       "      <td>0</td>\n",
       "      <td>0</td>\n",
       "      <td>3866.85520</td>\n",
       "      <td>0</td>\n",
       "      <td>1</td>\n",
       "      <td>0</td>\n",
       "      <td>0</td>\n",
       "    </tr>\n",
       "  </tbody>\n",
       "</table>\n",
       "</div>"
      ],
      "text/plain": [
       "   age  sex     bmi  children  smoker      charges  region_northeast  \\\n",
       "0   19    0  27.900         0       1  16884.92400                 0   \n",
       "1   18    1  33.770         1       0   1725.55230                 0   \n",
       "2   28    1  33.000         3       0   4449.46200                 0   \n",
       "3   33    1  22.705         0       0  21984.47061                 0   \n",
       "4   32    1  28.880         0       0   3866.85520                 0   \n",
       "\n",
       "   region_northwest  region_southeast  region_southwest  \n",
       "0                 0                 0                 1  \n",
       "1                 0                 1                 0  \n",
       "2                 0                 1                 0  \n",
       "3                 1                 0                 0  \n",
       "4                 1                 0                 0  "
      ]
     },
     "execution_count": 15,
     "metadata": {},
     "output_type": "execute_result"
    }
   ],
   "source": [
    "insurance.head()"
   ]
  },
  {
   "cell_type": "code",
   "execution_count": 16,
   "id": "dc4db4a8",
   "metadata": {
    "ExecuteTime": {
     "end_time": "2024-07-26T14:39:39.508064Z",
     "start_time": "2024-07-26T14:39:39.492440Z"
    }
   },
   "outputs": [],
   "source": [
    "corr_insurance = insurance.corr(method='pearson')"
   ]
  },
  {
   "cell_type": "code",
   "execution_count": 17,
   "id": "542a2c3d",
   "metadata": {
    "ExecuteTime": {
     "end_time": "2024-07-26T14:39:40.228080Z",
     "start_time": "2024-07-26T14:39:39.510070Z"
    },
    "run_control": {
     "marked": true
    },
    "scrolled": true
   },
   "outputs": [
    {
     "data": {
      "text/plain": [
       "<AxesSubplot:>"
      ]
     },
     "execution_count": 17,
     "metadata": {},
     "output_type": "execute_result"
    },
    {
     "data": {
      "image/png": "[encoded data removed]",
      "text/plain": [
       "<Figure size 640x480 with 2 Axes>"
      ]
     },
     "metadata": {},
     "output_type": "display_data"
    }
   ],
   "source": [
    "\n",
    "sns.heatmap(corr_insurance, annot=True, fmt=\".2f\")"
   ]
  },
  {
   "cell_type": "markdown",
   "id": "f2e8f0b4",
   "metadata": {},
   "source": [
    "#### Data visualization to futher explore and decide on feature selection"
   ]
  },
  {
   "cell_type": "code",
   "execution_count": 18,
   "id": "37855861",
   "metadata": {
    "ExecuteTime": {
     "end_time": "2024-07-26T14:39:40.424465Z",
     "start_time": "2024-07-26T14:39:40.232275Z"
    }
   },
   "outputs": [
    {
     "data": {
      "image/png": "[encoded data removed]",
      "text/plain": [
       "<Figure size 640x480 with 1 Axes>"
      ]
     },
     "metadata": {},
     "output_type": "display_data"
    }
   ],
   "source": [
    "# Boxplots for categorical features\n",
    "#plt.figure(figsize=(10,8))\n",
    "sns.boxplot(data=insurance, x='smoker', y='charges', hue='smoker')\n",
    "plt.show()"
   ]
  },
  {
   "cell_type": "markdown",
   "id": "14a91cd6",
   "metadata": {},
   "source": [
    "The above wide disparity between values of categorical variables makes the feature ideal for linear regression"
   ]
  },
  {
   "cell_type": "code",
   "execution_count": 19,
   "id": "4260e02a",
   "metadata": {
    "ExecuteTime": {
     "end_time": "2024-07-26T14:39:40.608642Z",
     "start_time": "2024-07-26T14:39:40.427458Z"
    }
   },
   "outputs": [
    {
     "data": {
      "image/png": "[encoded data removed]",
      "text/plain": [
       "<Figure size 1000x800 with 1 Axes>"
      ]
     },
     "metadata": {},
     "output_type": "display_data"
    }
   ],
   "source": [
    "# Boxplots for categorical features\n",
    "plt.figure(figsize=(10,8))\n",
    "sns.boxplot(data=insurance, x='sex', y='charges', hue='sex')\n",
    "plt.show()"
   ]
  },
  {
   "cell_type": "code",
   "execution_count": 20,
   "id": "318e1fe0",
   "metadata": {
    "ExecuteTime": {
     "end_time": "2024-07-26T14:39:40.758888Z",
     "start_time": "2024-07-26T14:39:40.610691Z"
    },
    "scrolled": false
   },
   "outputs": [
    {
     "data": {
      "image/png": "[encoded data removed]",
      "text/plain": [
       "<Figure size 640x480 with 1 Axes>"
      ]
     },
     "metadata": {},
     "output_type": "display_data"
    }
   ],
   "source": [
    "plt.scatter(data=insurance, x = 'age', y = 'charges')\n",
    "plt.show()"
   ]
  },
  {
   "cell_type": "markdown",
   "id": "c4435edd",
   "metadata": {},
   "source": [
    "The above scatterplot shows a positive linear relationship between charges and age, and would therefore be included in our feature selection"
   ]
  },
  {
   "cell_type": "code",
   "execution_count": 21,
   "id": "3d1fe6ab",
   "metadata": {
    "ExecuteTime": {
     "end_time": "2024-07-26T14:39:41.025546Z",
     "start_time": "2024-07-26T14:39:40.762076Z"
    }
   },
   "outputs": [
    {
     "data": {
      "image/png": "[encoded data removed]",
      "text/plain": [
       "<Figure size 640x480 with 1 Axes>"
      ]
     },
     "metadata": {},
     "output_type": "display_data"
    }
   ],
   "source": [
    "plt.scatter(data=insurance, x = 'bmi', y = 'charges')\n",
    "plt.show()"
   ]
  },
  {
   "cell_type": "markdown",
   "id": "d2e3ccae",
   "metadata": {
    "ExecuteTime": {
     "end_time": "2024-07-26T13:48:38.788807Z",
     "start_time": "2024-07-26T13:48:38.763585Z"
    }
   },
   "source": [
    "### Feature selection\n"
   ]
  },
  {
   "cell_type": "markdown",
   "id": "c78f7ced",
   "metadata": {},
   "source": [
    "Age and smoker would be used as our predictor variables, as smoker shows a high positive correlation with our outcome variable (charges), while age shows a form of linear relationship with charges as evidenced in our scatterplot"
   ]
  },
  {
   "cell_type": "code",
   "execution_count": 22,
   "id": "ab13de3c",
   "metadata": {
    "ExecuteTime": {
     "end_time": "2024-07-26T14:39:41.240844Z",
     "start_time": "2024-07-26T14:39:41.031473Z"
    }
   },
   "outputs": [
    {
     "data": {
      "text/plain": [
       "<AxesSubplot:>"
      ]
     },
     "execution_count": 22,
     "metadata": {},
     "output_type": "execute_result"
    },
    {
     "data": {
      "image/png": "[encoded data removed]",
      "text/plain": [
       "<Figure size 640x480 with 1 Axes>"
      ]
     },
     "metadata": {},
     "output_type": "display_data"
    }
   ],
   "source": [
    "insurance['charges'].hist()"
   ]
  },
  {
   "cell_type": "markdown",
   "id": "58913d04",
   "metadata": {},
   "source": [
    "### Transforming the dependent variable"
   ]
  },
  {
   "cell_type": "code",
   "execution_count": 23,
   "id": "9f324133",
   "metadata": {
    "ExecuteTime": {
     "end_time": "2024-07-26T14:39:41.249116Z",
     "start_time": "2024-07-26T14:39:41.244056Z"
    }
   },
   "outputs": [],
   "source": [
    "# logging the dependent variable to get it closer to a bell shape distribution\n",
    "\n",
    "insurance['log_charges'] = np.log2(insurance['charges'])"
   ]
  },
  {
   "cell_type": "code",
   "execution_count": 24,
   "id": "4949e7c3",
   "metadata": {
    "ExecuteTime": {
     "end_time": "2024-07-26T14:39:41.455554Z",
     "start_time": "2024-07-26T14:39:41.250132Z"
    }
   },
   "outputs": [
    {
     "data": {
      "text/plain": [
       "<AxesSubplot:>"
      ]
     },
     "execution_count": 24,
     "metadata": {},
     "output_type": "execute_result"
    },
    {
     "data": {
      "image/png": "[encoded data removed]",
      "text/plain": [
       "<Figure size 640x480 with 1 Axes>"
      ]
     },
     "metadata": {},
     "output_type": "display_data"
    }
   ],
   "source": [
    "insurance['log_charges'].hist()"
   ]
  },
  {
   "cell_type": "code",
   "execution_count": 25,
   "id": "28ccf293",
   "metadata": {
    "ExecuteTime": {
     "end_time": "2024-07-26T14:39:41.482581Z",
     "start_time": "2024-07-26T14:39:41.457497Z"
    },
    "scrolled": true
   },
   "outputs": [
    {
     "data": {
      "text/html": [
       "<div>\n",
       "<style scoped>\n",
       "    .dataframe tbody tr th:only-of-type {\n",
       "        vertical-align: middle;\n",
       "    }\n",
       "\n",
       "    .dataframe tbody tr th {\n",
       "        vertical-align: top;\n",
       "    }\n",
       "\n",
       "    .dataframe thead th {\n",
       "        text-align: right;\n",
       "    }\n",
       "</style>\n",
       "<table border=\"1\" class=\"dataframe\">\n",
       "  <thead>\n",
       "    <tr style=\"text-align: right;\">\n",
       "      <th></th>\n",
       "      <th>age</th>\n",
       "      <th>sex</th>\n",
       "      <th>bmi</th>\n",
       "      <th>children</th>\n",
       "      <th>smoker</th>\n",
       "      <th>charges</th>\n",
       "      <th>region_northeast</th>\n",
       "      <th>region_northwest</th>\n",
       "      <th>region_southeast</th>\n",
       "      <th>region_southwest</th>\n",
       "      <th>log_charges</th>\n",
       "    </tr>\n",
       "  </thead>\n",
       "  <tbody>\n",
       "    <tr>\n",
       "      <th>age</th>\n",
       "      <td>1.000000</td>\n",
       "      <td>-0.020856</td>\n",
       "      <td>0.109272</td>\n",
       "      <td>0.042469</td>\n",
       "      <td>-0.025019</td>\n",
       "      <td>0.299008</td>\n",
       "      <td>0.002475</td>\n",
       "      <td>-0.000407</td>\n",
       "      <td>-0.011642</td>\n",
       "      <td>0.010016</td>\n",
       "      <td>0.527834</td>\n",
       "    </tr>\n",
       "    <tr>\n",
       "      <th>sex</th>\n",
       "      <td>-0.020856</td>\n",
       "      <td>1.000000</td>\n",
       "      <td>0.046371</td>\n",
       "      <td>0.017163</td>\n",
       "      <td>0.076185</td>\n",
       "      <td>0.057292</td>\n",
       "      <td>-0.002425</td>\n",
       "      <td>-0.011156</td>\n",
       "      <td>0.017117</td>\n",
       "      <td>-0.004184</td>\n",
       "      <td>0.005632</td>\n",
       "    </tr>\n",
       "    <tr>\n",
       "      <th>bmi</th>\n",
       "      <td>0.109272</td>\n",
       "      <td>0.046371</td>\n",
       "      <td>1.000000</td>\n",
       "      <td>0.012759</td>\n",
       "      <td>0.003750</td>\n",
       "      <td>0.198341</td>\n",
       "      <td>-0.138156</td>\n",
       "      <td>-0.135996</td>\n",
       "      <td>0.270025</td>\n",
       "      <td>-0.006205</td>\n",
       "      <td>0.132669</td>\n",
       "    </tr>\n",
       "    <tr>\n",
       "      <th>children</th>\n",
       "      <td>0.042469</td>\n",
       "      <td>0.017163</td>\n",
       "      <td>0.012759</td>\n",
       "      <td>1.000000</td>\n",
       "      <td>0.007673</td>\n",
       "      <td>0.067998</td>\n",
       "      <td>-0.022808</td>\n",
       "      <td>0.024806</td>\n",
       "      <td>-0.023066</td>\n",
       "      <td>0.021914</td>\n",
       "      <td>0.161336</td>\n",
       "    </tr>\n",
       "    <tr>\n",
       "      <th>smoker</th>\n",
       "      <td>-0.025019</td>\n",
       "      <td>0.076185</td>\n",
       "      <td>0.003750</td>\n",
       "      <td>0.007673</td>\n",
       "      <td>1.000000</td>\n",
       "      <td>0.787251</td>\n",
       "      <td>0.002811</td>\n",
       "      <td>-0.036945</td>\n",
       "      <td>0.068498</td>\n",
       "      <td>-0.036945</td>\n",
       "      <td>0.665506</td>\n",
       "    </tr>\n",
       "    <tr>\n",
       "      <th>charges</th>\n",
       "      <td>0.299008</td>\n",
       "      <td>0.057292</td>\n",
       "      <td>0.198341</td>\n",
       "      <td>0.067998</td>\n",
       "      <td>0.787251</td>\n",
       "      <td>1.000000</td>\n",
       "      <td>0.006349</td>\n",
       "      <td>-0.039905</td>\n",
       "      <td>0.073982</td>\n",
       "      <td>-0.043210</td>\n",
       "      <td>0.892964</td>\n",
       "    </tr>\n",
       "    <tr>\n",
       "      <th>region_northeast</th>\n",
       "      <td>0.002475</td>\n",
       "      <td>-0.002425</td>\n",
       "      <td>-0.138156</td>\n",
       "      <td>-0.022808</td>\n",
       "      <td>0.002811</td>\n",
       "      <td>0.006349</td>\n",
       "      <td>1.000000</td>\n",
       "      <td>-0.320177</td>\n",
       "      <td>-0.345561</td>\n",
       "      <td>-0.320177</td>\n",
       "      <td>0.043115</td>\n",
       "    </tr>\n",
       "    <tr>\n",
       "      <th>region_northwest</th>\n",
       "      <td>-0.000407</td>\n",
       "      <td>-0.011156</td>\n",
       "      <td>-0.135996</td>\n",
       "      <td>0.024806</td>\n",
       "      <td>-0.036945</td>\n",
       "      <td>-0.039905</td>\n",
       "      <td>-0.320177</td>\n",
       "      <td>1.000000</td>\n",
       "      <td>-0.346265</td>\n",
       "      <td>-0.320829</td>\n",
       "      <td>-0.017824</td>\n",
       "    </tr>\n",
       "    <tr>\n",
       "      <th>region_southeast</th>\n",
       "      <td>-0.011642</td>\n",
       "      <td>0.017117</td>\n",
       "      <td>0.270025</td>\n",
       "      <td>-0.023066</td>\n",
       "      <td>0.068498</td>\n",
       "      <td>0.073982</td>\n",
       "      <td>-0.345561</td>\n",
       "      <td>-0.346265</td>\n",
       "      <td>1.000000</td>\n",
       "      <td>-0.346265</td>\n",
       "      <td>0.015791</td>\n",
       "    </tr>\n",
       "    <tr>\n",
       "      <th>region_southwest</th>\n",
       "      <td>0.010016</td>\n",
       "      <td>-0.004184</td>\n",
       "      <td>-0.006205</td>\n",
       "      <td>0.021914</td>\n",
       "      <td>-0.036945</td>\n",
       "      <td>-0.043210</td>\n",
       "      <td>-0.320177</td>\n",
       "      <td>-0.320829</td>\n",
       "      <td>-0.346265</td>\n",
       "      <td>1.000000</td>\n",
       "      <td>-0.041632</td>\n",
       "    </tr>\n",
       "    <tr>\n",
       "      <th>log_charges</th>\n",
       "      <td>0.527834</td>\n",
       "      <td>0.005632</td>\n",
       "      <td>0.132669</td>\n",
       "      <td>0.161336</td>\n",
       "      <td>0.665506</td>\n",
       "      <td>0.892964</td>\n",
       "      <td>0.043115</td>\n",
       "      <td>-0.017824</td>\n",
       "      <td>0.015791</td>\n",
       "      <td>-0.041632</td>\n",
       "      <td>1.000000</td>\n",
       "    </tr>\n",
       "  </tbody>\n",
       "</table>\n",
       "</div>"
      ],
      "text/plain": [
       "                       age       sex       bmi  children    smoker   charges  \\\n",
       "age               1.000000 -0.020856  0.109272  0.042469 -0.025019  0.299008   \n",
       "sex              -0.020856  1.000000  0.046371  0.017163  0.076185  0.057292   \n",
       "bmi               0.109272  0.046371  1.000000  0.012759  0.003750  0.198341   \n",
       "children          0.042469  0.017163  0.012759  1.000000  0.007673  0.067998   \n",
       "smoker           -0.025019  0.076185  0.003750  0.007673  1.000000  0.787251   \n",
       "charges           0.299008  0.057292  0.198341  0.067998  0.787251  1.000000   \n",
       "region_northeast  0.002475 -0.002425 -0.138156 -0.022808  0.002811  0.006349   \n",
       "region_northwest -0.000407 -0.011156 -0.135996  0.024806 -0.036945 -0.039905   \n",
       "region_southeast -0.011642  0.017117  0.270025 -0.023066  0.068498  0.073982   \n",
       "region_southwest  0.010016 -0.004184 -0.006205  0.021914 -0.036945 -0.043210   \n",
       "log_charges       0.527834  0.005632  0.132669  0.161336  0.665506  0.892964   \n",
       "\n",
       "                  region_northeast  region_northwest  region_southeast  \\\n",
       "age                       0.002475         -0.000407         -0.011642   \n",
       "sex                      -0.002425         -0.011156          0.017117   \n",
       "bmi                      -0.138156         -0.135996          0.270025   \n",
       "children                 -0.022808          0.024806         -0.023066   \n",
       "smoker                    0.002811         -0.036945          0.068498   \n",
       "charges                   0.006349         -0.039905          0.073982   \n",
       "region_northeast          1.000000         -0.320177         -0.345561   \n",
       "region_northwest         -0.320177          1.000000         -0.346265   \n",
       "region_southeast         -0.345561         -0.346265          1.000000   \n",
       "region_southwest         -0.320177         -0.320829         -0.346265   \n",
       "log_charges               0.043115         -0.017824          0.015791   \n",
       "\n",
       "                  region_southwest  log_charges  \n",
       "age                       0.010016     0.527834  \n",
       "sex                      -0.004184     0.005632  \n",
       "bmi                      -0.006205     0.132669  \n",
       "children                  0.021914     0.161336  \n",
       "smoker                   -0.036945     0.665506  \n",
       "charges                  -0.043210     0.892964  \n",
       "region_northeast         -0.320177     0.043115  \n",
       "region_northwest         -0.320829    -0.017824  \n",
       "region_southeast         -0.346265     0.015791  \n",
       "region_southwest          1.000000    -0.041632  \n",
       "log_charges              -0.041632     1.000000  "
      ]
     },
     "execution_count": 25,
     "metadata": {},
     "output_type": "execute_result"
    }
   ],
   "source": [
    "insurance.corr()"
   ]
  },
  {
   "cell_type": "markdown",
   "id": "ebd6c3dd",
   "metadata": {},
   "source": [
    "### Model Building and Training\n"
   ]
  },
  {
   "cell_type": "code",
   "execution_count": 26,
   "id": "7418120c",
   "metadata": {
    "ExecuteTime": {
     "end_time": "2024-07-26T14:39:41.498240Z",
     "start_time": "2024-07-26T14:39:41.483578Z"
    },
    "run_control": {
     "marked": true
    }
   },
   "outputs": [],
   "source": [
    "X = insurance[[\"age\", \"smoker\"]]\n",
    "y = insurance[\"log_charges\"]"
   ]
  },
  {
   "cell_type": "code",
   "execution_count": 27,
   "id": "992c83c7",
   "metadata": {
    "ExecuteTime": {
     "end_time": "2024-07-26T14:39:41.514167Z",
     "start_time": "2024-07-26T14:39:41.506182Z"
    }
   },
   "outputs": [],
   "source": [
    "X_train, X_test, y_train, y_test = train_test_split(X, y, test_size=0.2, random_state=17)"
   ]
  },
  {
   "cell_type": "code",
   "execution_count": 28,
   "id": "5f0de4f1",
   "metadata": {
    "ExecuteTime": {
     "end_time": "2024-07-26T14:39:41.530118Z",
     "start_time": "2024-07-26T14:39:41.519152Z"
    }
   },
   "outputs": [],
   "source": [
    "model = LinearRegression()"
   ]
  },
  {
   "cell_type": "code",
   "execution_count": 29,
   "id": "d8ac0d8e",
   "metadata": {
    "ExecuteTime": {
     "end_time": "2024-07-26T14:39:41.544883Z",
     "start_time": "2024-07-26T14:39:41.532113Z"
    }
   },
   "outputs": [
    {
     "data": {
      "text/plain": [
       "LinearRegression()"
      ]
     },
     "execution_count": 29,
     "metadata": {},
     "output_type": "execute_result"
    }
   ],
   "source": [
    "model.fit(X_train, y_train)"
   ]
  },
  {
   "cell_type": "code",
   "execution_count": 35,
   "id": "5cf52299",
   "metadata": {
    "ExecuteTime": {
     "end_time": "2024-07-26T14:41:59.350679Z",
     "start_time": "2024-07-26T14:41:59.341387Z"
    }
   },
   "outputs": [],
   "source": [
    "y_train_pred = model.predict(X_train)"
   ]
  },
  {
   "cell_type": "code",
   "execution_count": 36,
   "id": "5235aa71",
   "metadata": {
    "ExecuteTime": {
     "end_time": "2024-07-26T14:42:00.538250Z",
     "start_time": "2024-07-26T14:42:00.527036Z"
    }
   },
   "outputs": [],
   "source": [
    "y_test_pred = model.predict(X_test)"
   ]
  },
  {
   "cell_type": "markdown",
   "id": "a621811b",
   "metadata": {},
   "source": [
    "### Model Evaluation"
   ]
  },
  {
   "cell_type": "code",
   "execution_count": 37,
   "id": "670b928b",
   "metadata": {
    "ExecuteTime": {
     "end_time": "2024-07-26T14:42:01.886346Z",
     "start_time": "2024-07-26T14:42:01.875412Z"
    }
   },
   "outputs": [
    {
     "data": {
      "text/plain": [
       "array([0.05095892, 2.25322038])"
      ]
     },
     "execution_count": 37,
     "metadata": {},
     "output_type": "execute_result"
    }
   ],
   "source": [
    "model.coef_"
   ]
  },
  {
   "cell_type": "code",
   "execution_count": 33,
   "id": "2a4c23eb",
   "metadata": {
    "ExecuteTime": {
     "end_time": "2024-07-26T14:39:41.613837Z",
     "start_time": "2024-07-26T14:39:41.598813Z"
    }
   },
   "outputs": [],
   "source": [
    "#r2 = r2_score(y_test, y_test_pred)\n"
   ]
  },
  {
   "cell_type": "code",
   "execution_count": 39,
   "id": "f71f668b",
   "metadata": {
    "ExecuteTime": {
     "end_time": "2024-07-26T14:42:13.493868Z",
     "start_time": "2024-07-26T14:42:13.483891Z"
    }
   },
   "outputs": [
    {
     "data": {
      "text/plain": [
       "0.4809632206571297"
      ]
     },
     "execution_count": 39,
     "metadata": {},
     "output_type": "execute_result"
    }
   ],
   "source": [
    "train_mse = mean_squared_error(y_train, y_train_pred)\n",
    "train_mse"
   ]
  },
  {
   "cell_type": "code",
   "execution_count": 40,
   "id": "45af9a24",
   "metadata": {
    "ExecuteTime": {
     "end_time": "2024-07-26T14:42:17.888554Z",
     "start_time": "2024-07-26T14:42:17.877570Z"
    }
   },
   "outputs": [
    {
     "data": {
      "text/plain": [
       "0.3687293274259835"
      ]
     },
     "execution_count": 40,
     "metadata": {},
     "output_type": "execute_result"
    }
   ],
   "source": [
    "test_mse = mean_squared_error(y_test, y_test_pred)\n",
    "test_mse"
   ]
  },
  {
   "cell_type": "code",
   "execution_count": 42,
   "id": "1687b647",
   "metadata": {
    "ExecuteTime": {
     "end_time": "2024-07-26T14:42:36.727720Z",
     "start_time": "2024-07-26T14:42:36.716744Z"
    }
   },
   "outputs": [
    {
     "data": {
      "text/plain": [
       "0.6935151192707552"
      ]
     },
     "execution_count": 42,
     "metadata": {},
     "output_type": "execute_result"
    }
   ],
   "source": [
    "train_rmse = mean_squared_error(y_train, y_train_pred, squared=False)\n",
    "train_rmse"
   ]
  },
  {
   "cell_type": "code",
   "execution_count": 43,
   "id": "64f4cda7",
   "metadata": {
    "ExecuteTime": {
     "end_time": "2024-07-26T14:42:44.250213Z",
     "start_time": "2024-07-26T14:42:44.239958Z"
    }
   },
   "outputs": [
    {
     "data": {
      "text/plain": [
       "0.6072308683079143"
      ]
     },
     "execution_count": 43,
     "metadata": {},
     "output_type": "execute_result"
    }
   ],
   "source": [
    "test_rmse = mean_squared_error(y_test, y_test_pred, squared=False)\n",
    "test_rmse"
   ]
  },
  {
   "cell_type": "code",
   "execution_count": 48,
   "id": "4fb32ad5",
   "metadata": {
    "ExecuteTime": {
     "end_time": "2024-07-26T17:35:40.582265Z",
     "start_time": "2024-07-26T17:35:40.356385Z"
    },
    "run_control": {
     "marked": true
    }
   },
   "outputs": [
    {
     "data": {
      "text/plain": [
       "0.7322143876618108"
      ]
     },
     "execution_count": 48,
     "metadata": {},
     "output_type": "execute_result"
    }
   ],
   "source": [
    "r2 = r2_score(y_train, y_train_pred)\n",
    "r2"
   ]
  },
  {
   "cell_type": "markdown",
   "id": "a8dbe196",
   "metadata": {},
   "source": [
    "The train and test mse are quite close with the test mse lesser than the former. This suggests that the model is not overfitting. An R2 score of 73% indicates that the model can explain 34% of the variation in the log-insurance charges. "
   ]
  }
 ],
 "metadata": {
  "kernelspec": {
   "display_name": "Python 3 (ipykernel)",
   "language": "python",
   "name": "python3"
  },
  "language_info": {
   "codemirror_mode": {
    "name": "ipython",
    "version": 3
   },
   "file_extension": ".py",
   "mimetype": "text/x-python",
   "name": "python",
   "nbconvert_exporter": "python",
   "pygments_lexer": "ipython3",
   "version": "3.9.13"
  }
 },
 "nbformat": 4,
 "nbformat_minor": 5
}
